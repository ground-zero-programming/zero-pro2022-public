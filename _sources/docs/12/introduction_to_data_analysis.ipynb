{
 "cells": [
  {
   "cell_type": "markdown",
   "metadata": {},
   "source": [
    "# 第12回：データ分析入門（講義）\n",
    "\n",
    "担当：古居彬\n",
    "\n",
    "## 内容\n",
    "\n",
    "第12回では，Pythonを用いた基礎的なデータ分析を体験する．\n",
    "本講義の初回で述べたように，Pythonはデータ分析や機械学習，Webサービスなど幅広い分野で利用されている．\n",
    "その大きな理由として，さまざまな処理を実現するための機能が豊富に準備されていることが挙げられる．\n",
    "このような機能を管理しているのが，**モジュール** と呼ばれる単位である．モジュールには，さまざまな関数が含まれている．\n",
    "データ解析や画像処理といった高度な処理も，それぞれの用途に特化したモジュールを組み合わせることで比較的簡単に実行することができる．\n",
    "また，モジュールを複数集めたものを **ライブラリ** や **パッケージ** と呼ぶ．\n",
    "今回は実践編として，いくつかのモジュールを用いてPythonによる簡単なデータ分析を行っていこう．\n",
    "\n",
    "- モジュール，ライブラリ，パッケージとその使い方を理解する\n",
    "- `Pandas` によるデータ操作を学ぶ\n",
    "- `Matplotlib` によるデータの可視化を学ぶ\n"
   ]
  },
  {
   "cell_type": "markdown",
   "metadata": {},
   "source": [
    "## Pythonにおけるモジュール，パッケージ，ライブラリ\n",
    "\n",
    "前述の通り，Pythonの強みの一つは，さまざまな処理を実現するための機能が準備されており，幅広い分野に応用できることである．\n",
    "このような機能を管理する単位は **モジュール** と呼ばれ，その中にはいくつかの関数やクラスが含まれている．\n",
    "\n",
    "また，複数のモジュールをまとめたものを **パッケージ** と呼ぶ．\n",
    "\n",
    "さらに，いくつかのパッケージをまとめて，一括でインストールできるようにしたものを **ライブラリ** と呼ぶ．\n",
    "ライブラリには大きく2種類があり，Pythonにはじめから付属していてすぐに使える **標準ライブラリ** と，追加でインストールすることで利用可能な **外部ライブラリ** がある．\n",
    "\n",
    "以上をまとめた概念図は以下の通りである．\n",
    "\n",
    "![](./figs/module_library.png)\n",
    "\n",
    "ざっくり「モジュールやライブラリを利用することで，データ解析や画像処理など，高度な機能が利用できるようになる」と理解してもらえれば大丈夫だ．\n",
    "\n",
    "### Pythonの標準ライブラリ\n",
    "\n",
    "前述の通り，標準ライブラリとはあらかじめ用意されているライブラリである．\n",
    "[第8回 関数とスコープ](../08/functions_and_scope.ipynb) で紹介した組み込み関数も，この標準ライブラリの中に含まれている．\n",
    "\n",
    "組み込み関数は何もせずそのまま使うことができたが，特殊な機能を持つモジュールは後述する `import` 文で読み込む必要がある．\n",
    "\n",
    "Pythonの標準ライブラリで提供されている関数・モジュールの一覧は以下の公式ページから参照することができる．\n",
    "\n",
    "[https://docs.python.org/ja/3/library/index.html](https://docs.python.org/ja/3/library/index.html)\n",
    "\n",
    "### Pythonの外部ライブラリ\n",
    "\n",
    "標準ライブラリだけでもかなり幅広い処理が実現できるが，データ分析や画像処理，統計解析や科学技術計算など，特定の分野に特化した機能を利用するためには，外部ライブラリを利用する必要がある．\n",
    "\n",
    "外部ライブラリは，その名の通り外部の団体や個人によって開発，提供されているライブラリである．\n",
    "外部ライブラリを利用するためには，まず初めにインストールが必要である．\n",
    "インストールされた外部ライブラリは，後述する `import` 文で読み込むことができる．\n",
    "\n",
    "なお，Google Colaboratoryでは既に主要な外部ライブラリがインストールされており，これらは最初から `import` 文で読み込みが可能である．\n",
    "\n",
    "`````{admonition} インストール済ライブラリの表示\n",
    "Google Colaboratoryにインストールされているライブラリ一覧を表示したい場合は，コードセルにて以下のコマンドを実行すればよい．\n",
    "\n",
    "```python\n",
    "!pip list\n",
    "```\n",
    "\n",
    "以下のように，大量のパッケージが表示されるはずだ．\n",
    "\n",
    "```bash\n",
    "Package                       Version\n",
    "----------------------------- ----------------------\n",
    "absl-py                       1.3.0\n",
    "aeppl                         0.0.33\n",
    "aesara                        2.7.9\n",
    "aiohttp                       3.8.3\n",
    "aiosignal                     1.2.0\n",
    "alabaster                     0.7.12\n",
    "albumentations                1.2.1\n",
    "altair                        4.2.0\n",
    "appdirs                       1.4.4\n",
    "arviz                         0.12.1\n",
    "… (以下省略) …\n",
    "```\n",
    "\n",
    "`````\n",
    "\n",
    "なお，本講義で利用する外部ライブラリについても，上記インストール済リストに含まれるため，新たにインストールの手順を踏む必要はない．\n",
    "外部ライブラリを自分で追加インストールする方法を学びたい人は，以下の発展項目を参照されたい．\n",
    "\n",
    "\n",
    "`````{admonition} 【発展】外部ライブラリをインストールする方法\n",
    ":class: tip, dropdown\n",
    "\n",
    "Pythonで利用可能な外部ライブラリは，**Python Package Index（PyPl）** というソフトウェアリポジトリで管理されている．\n",
    "ざっくり表現すると，外部ライブラリのカタログのようなものである．\n",
    "\n",
    "以下のサイトより，インストール可能な外部ライブラリを検索することができる．\n",
    "\n",
    "[https://pypi.org](https://pypi.org)\n",
    "\n",
    "**pip** などのパッケージ管理システムを利用することで，PyPlに登録されているライブラリやパッケージをダウンロード＆インストールすることができる．\n",
    "Google Colaboratoryにおける外部ライブラリも，このpipというシステムによって管理されている．\n",
    "\n",
    "Google Colaboratoryで新しい外部ライブラリをインストールしたい場合，コードセルにて次のコマンドを実行すれば良い．\n",
    "\n",
    "```bash\n",
    "!pip install ライブラリ名\n",
    "```\n",
    "\n",
    "`````"
   ]
  },
  {
   "cell_type": "markdown",
   "metadata": {},
   "source": [
    "### モジュール／ライブラリのインポート\n",
    "\n",
    "前述の通り，モジュールやライブラリに含まれる関数やクラスを使用するためには，対象となるモジュール／ライブラリを読み込む（ **インポート** する）必要がある．\n",
    "これには， `import` という文を使う．以下のように記述することでモジュールをインポートできる．\n",
    "\n",
    "```python\n",
    "import モジュール名\n",
    "```\n",
    "\n",
    "または\n",
    "\n",
    "```python\n",
    "import ライブラリ名\n",
    "```\n",
    "\n",
    "モジュール／ライブラリのインポートは，最初に1回記述すればよい．\n",
    "\n",
    "試しに，数学関係の便利な関数をまとめた `math` というモジュールをインポートしてみよう．"
   ]
  },
  {
   "cell_type": "code",
   "execution_count": 49,
   "metadata": {},
   "outputs": [],
   "source": [
    "import math"
   ]
  },
  {
   "cell_type": "markdown",
   "metadata": {},
   "source": [
    "これで，`math` モジュールが使えるようになった．\n",
    "`math` モジュールに含まれる関数を使用するためには， `math.関数名` のように記述すればOKである．\n",
    "\n",
    "例えば，平方根を計算したいときは `math.sqrt()` のように記述する．"
   ]
  },
  {
   "cell_type": "code",
   "execution_count": 50,
   "metadata": {},
   "outputs": [
    {
     "data": {
      "text/plain": [
       "1.4142135623730951"
      ]
     },
     "execution_count": 50,
     "metadata": {},
     "output_type": "execute_result"
    }
   ],
   "source": [
    "math.sqrt(2)"
   ]
  },
  {
   "cell_type": "markdown",
   "metadata": {},
   "source": [
    "ほかにも `math` モジュールには様々な関数が用意されている．\n",
    "以下に，いくつかの例を示す．\n",
    "\n",
    "| 関数  | 説明 |\n",
    "| ---- | ---- |\n",
    "| `sin(x)` | `x` のサイン（正弦）を返す |\n",
    "| `cos(x)` | `x` のコサイン（余弦）を返す |\n",
    "| `tan(x)` | `x` のタンジェント（正接）を返す |\n",
    "| `exp(x)` | 自然対数の底（ネイピア数）の `x` 乗を返す |\n",
    "| `log(x)` | `x` の自然対数を返す |\n",
    "| `sqrt(x)` | `x` の平方根を返す |\n",
    "\n",
    "\n",
    "\n",
    "そのうちいくつかを実行してみよう．"
   ]
  },
  {
   "cell_type": "code",
   "execution_count": 51,
   "metadata": {},
   "outputs": [
    {
     "name": "stdout",
     "output_type": "stream",
     "text": [
      "2.5649493574615367\n",
      "0.7071067811865475\n"
     ]
    }
   ],
   "source": [
    "print(math.log(13)) # 自然対数\n",
    "print(math.sin(math.pi/4)) # 正弦（サイン）"
   ]
  },
  {
   "cell_type": "markdown",
   "metadata": {},
   "source": [
    "また，`math` モジュールには関数の他にも，数学で多用される **定数** も含まれている．\n",
    "以下に代表例を表示してみる．"
   ]
  },
  {
   "cell_type": "code",
   "execution_count": 52,
   "metadata": {},
   "outputs": [
    {
     "name": "stdout",
     "output_type": "stream",
     "text": [
      "3.141592653589793\n",
      "2.718281828459045\n"
     ]
    }
   ],
   "source": [
    "print(math.pi) # 円周率\n",
    "print(math.e) # 自然対数の底（ネイピア数）"
   ]
  },
  {
   "cell_type": "markdown",
   "metadata": {},
   "source": [
    "### モジュールに別名をつける\n",
    "\n",
    "モジュールをインポートする際，別の名前（例えば短縮名）を付けることが可能である．\n",
    "\n",
    "```python\n",
    "import モジュール名 as 短縮名\n",
    "```\n",
    "\n",
    "例えば，以下のように書くことで，モジュール `math` に短縮名 `m` を付けてインポートすることができる．"
   ]
  },
  {
   "cell_type": "code",
   "execution_count": 53,
   "metadata": {},
   "outputs": [],
   "source": [
    "import math as m"
   ]
  },
  {
   "cell_type": "markdown",
   "metadata": {},
   "source": [
    "このようにインポートすることで，`math` モジュールに含まれる関数を使用する際， `m.関数名` のように簡潔に書けるようになる．"
   ]
  },
  {
   "cell_type": "code",
   "execution_count": 54,
   "metadata": {},
   "outputs": [
    {
     "data": {
      "text/plain": [
       "1.4142135623730951"
      ]
     },
     "execution_count": 54,
     "metadata": {},
     "output_type": "execute_result"
    }
   ],
   "source": [
    "m.sqrt(2)"
   ]
  },
  {
   "cell_type": "markdown",
   "metadata": {},
   "source": [
    "### 【発展】特定の関数だけを読み込む\n",
    "\n",
    "モジュールやライブラリを用いる際，特定の関数だけを読み込みたいことがある．\n",
    "そのような場合は，以下の表記を用いて指定した関数・クラスだけをインポートすることができる．\n",
    "\n",
    "```python\n",
    "from モジュール名 import 関数名\n",
    "```\n",
    "\n",
    "`from` でモジュール名を指定し，続く `import` に読み込みたい関数・クラスを指定する（複数の関数・クラスを指定したい場合は，カンマ区切りで並べて書く）．\n",
    "\n",
    "このようにしてインポートした場合，モジュール名を記述しなくとも，関数・クラスをそのまま呼び出すことができる．"
   ]
  },
  {
   "cell_type": "code",
   "execution_count": 55,
   "metadata": {},
   "outputs": [
    {
     "data": {
      "text/plain": [
       "1.7320508075688772"
      ]
     },
     "execution_count": 55,
     "metadata": {},
     "output_type": "execute_result"
    }
   ],
   "source": [
    "from math import sqrt\n",
    "\n",
    "sqrt(3)"
   ]
  },
  {
   "cell_type": "markdown",
   "metadata": {},
   "source": [
    "`````{admonition} ワイルドカードを用いたインポート\n",
    ":class: attention\n",
    "\n",
    "なお，次のようにアスタリスク（`*`）を用いると，対象のモジュールに含まれるすべての関数やクラスを一気にインポートできる．\n",
    "\n",
    "```python\n",
    "from モジュール名 import *\n",
    "```\n",
    "\n",
    "なお，この際の `*` は **ワイルドカード** と呼ばれ，任意の文字列を意味している．\n",
    "したがって，対象のモジュール内の任意の文字列を名前として持つ関数やクラス（つまり，すべての関数やクラス）をインポートする，という表記法である．\n",
    "\n",
    "上記のようなインポートの方法は **ワイルドカードインポート** とも呼ばれ，一見楽な方法に思えるが，一般的なPythonプログラミングにおいては **推奨されない** ことが多い．\n",
    "\n",
    "理由はいくつかあるが，最も多いトラブルは関数や変数の名前衝突である．\n",
    "\n",
    "通常，外部モジュールや外部ライブラリに含まれている関数やクラス，定数を全て把握していることは少ない．\n",
    "ワイルドカードインポートではそれら把握できていない物も含め全てがインポートされてしまうため，自分が別で定義した関数やクラスの名前がインポートした関数やクラスの名前と衝突する危険がある．\n",
    "\n",
    "名前の衝突が起こると，変数や関数が上書きされてしまうリスクがあるため，基本的にはワイルドカードインポートは使わない方がよいだろう．\n",
    "\n",
    "`````"
   ]
  },
  {
   "cell_type": "markdown",
   "metadata": {},
   "source": [
    "```{admonition} モジュール，パッケージ，ライブラリのまとめ\n",
    "- 複数の関数やクラスをまとめたものをモジュールと呼ぶ\n",
    "- モジュールをさらにまとめたものをパッケージやライブラリと呼ぶ\n",
    "- 外部ライブラリを追加インストールすることで，様々な追加機能が使えるようにある\n",
    "- モジュールやライブラリは `import` 文で読み込むことができる\n",
    "```\n",
    "\n",
    "なお，これ以降は代表的な外部ライブラリである `pandas` と `matplotlib` を用いてデータ分析に取り組んでいく．\n",
    "これら2つのライブラリはそれぞれ膨大な数のモジュールを含んでおり，それらの網羅的な紹介は本講義では行わず，各ライブラリの機能を体験する上で最小限の説明にとどめる．\n",
    "\n",
    "将来的にPythonでプログラミングをする機会が生じたときに，各自で検索しながら様々な具体的な機能を学んで行って欲しい．\n",
    "プログラミングにおいては，網羅的な知識を有しておくよりも，必要に応じて適切に情報を検索し利用する能力の方が重要である．"
   ]
  },
  {
   "cell_type": "markdown",
   "metadata": {},
   "source": [
    "## `Pandas` によるデータ操作\n",
    "\n",
    "では，実際にデータ分析の本題に入っていこう．\n",
    "今回は，**Pandas** というライブラリを用いる．\n",
    "Pandasは，データ解析を容易に行うための機能を提供しており，データの操作や加工，分析などさまざまな処理を行うことができる．\n",
    "\n",
    "以下のコマンドで，まずはPandasをインポートしよう．"
   ]
  },
  {
   "cell_type": "code",
   "execution_count": 56,
   "metadata": {},
   "outputs": [],
   "source": [
    "import pandas as pd"
   ]
  },
  {
   "cell_type": "markdown",
   "metadata": {},
   "source": [
    "なお，簡単のため `as` を用いて `pd` という短縮名でインポートした．\n",
    "\n",
    "### Series と DataFrame\n",
    "\n",
    "Pandasでは，**Series（シリーズ）** や **DataFrame（データフレーム）** といった特殊なデータ構造が使用される．\n",
    "Seriesは1次元（列形式）のデータ，DataFrameは2次元（行列形式）のデータを扱うための構造である．\n",
    "\n",
    "実際のデータ分析の場面では2次元のデータを扱うことが多いため，本講義では2次元のデータ構造であるDataFrameを主に扱っていく．\n",
    "\n",
    "DataFrameは前述の通り，行と列の2次元で表現され，表のような構造となっている．\n",
    "それぞれの列に対して，文字列型や数値型など，一様な型のデータが格納されている．\n",
    "\n",
    "列と行にはそれぞれ列名と行名（またはインデックス）が付けられており，これらを指定することで，データの集計や抽出，加工に利用することができる．\n",
    "\n",
    "```{admonition} DataFrameからSeriesを抽出する\n",
    ":class: tip\n",
    "DataFrameから抽出した1行または1列の情報は，1次元のデータ構造であるSeriesとなる．\n",
    "逆に，複数のSeriesを結合してDataFrameとして扱うこともできる．\n",
    "\n",
    "このように，DataFrameは複数のSeriesの集合と考えることができる．\n",
    "```\n",
    "\n",
    "DataFrameを作成するには，以下のようなコードを書けば良い．\n",
    "\n",
    "```python\n",
    "pd.DataFrame(data=格納するデータ, index=行名, columns=列名)\n",
    "```\n",
    "\n",
    "このとき，引数の `data` には，リスト型や辞書型の変数を指定することができる（復習 → [第2回](../02/variables_and_data_types.ipynb)）．\n",
    "\n",
    "本講義では，ファイルに格納された情報をDataFrameに取り込んで解析に利用していくこととする．"
   ]
  },
  {
   "cell_type": "markdown",
   "metadata": {},
   "source": [
    "### データの読み込み\n",
    "\n",
    "今回は，[アイスクリーム屋さんで学ぶ楽しい統計学](http://kogolab.chillout.jp/elearn/icecream/index.html) というサイトで公開されている架空のデータを用いてデータ分析に取り組んでいく．\n",
    "\n",
    "まず，第10回の時と同じ手順で，当該データをダウンロードしよう．\n",
    "以下のセルを実行すると，`data` フォルダの中に `ice_cream.csv` というファイルがダウンロードされる．"
   ]
  },
  {
   "cell_type": "code",
   "execution_count": 57,
   "metadata": {},
   "outputs": [
    {
     "name": "stdout",
     "output_type": "stream",
     "text": [
      "mkdir: data: File exists\n",
      "zsh:1: command not found: wget\n"
     ]
    }
   ],
   "source": [
    "!mkdir data\n",
    "!wget -P data https://raw.githubusercontent.com/ground-zero-programming/zero-pro2022-public/main/docs/12/data/ice_cream.csv"
   ]
  },
  {
   "cell_type": "markdown",
   "metadata": {},
   "source": [
    "`ice_cream.csv`には，あるアイスクリームチェーン店における8月の客数データ（2週間 = 14日分）が格納されている．\n",
    "このファイルは **CSVファイル** と呼ばれ，以下のように各データの間がコンマ `,` で区切られている．\n",
    "\n",
    "```csv\n",
    "日付, 最高気温, 客数\n",
    "1, 29, 312\n",
    "2, 30, 348\n",
    "3, 29, 284\n",
    "...\n",
    "```\n",
    "\n",
    "1行目は列のタイトル（ヘッダとも呼ばれる）となっており，2行目から各日付におけるデータが格納されている．\n",
    "また，暑い日にはアイスクリームを食べたいと思う人が増えるかもしれない．\n",
    "そこで，このファイルには各日付における客数以外に，その日の最高気温も含まれている．\n",
    "\n",
    "CSVファイルを読み込むには，Pandasに含まれる `read_csv` という関数が便利である．\n",
    "\n",
    "`read_csv` 関数は，目的とするファイルの保存場所までの経路（これを **パス** といいます）を文字列として引数に渡すことで，そのファイルを開くことができる．\n",
    "今回は `data` というフォルダに入っている `ice_cream.csv` を開きたいので，`'data/ice_cream.csv'` という文字列を渡せばOK．\n",
    "ここで，スラッシュ `/` はパスを記述する際の区切り文字で， `A/B` と書くとフォルダ `A` の中に `B` があることを意味する．"
   ]
  },
  {
   "cell_type": "code",
   "execution_count": 58,
   "metadata": {},
   "outputs": [
    {
     "data": {
      "text/html": [
       "<div>\n",
       "<style scoped>\n",
       "    .dataframe tbody tr th:only-of-type {\n",
       "        vertical-align: middle;\n",
       "    }\n",
       "\n",
       "    .dataframe tbody tr th {\n",
       "        vertical-align: top;\n",
       "    }\n",
       "\n",
       "    .dataframe thead th {\n",
       "        text-align: right;\n",
       "    }\n",
       "</style>\n",
       "<table border=\"1\" class=\"dataframe\">\n",
       "  <thead>\n",
       "    <tr style=\"text-align: right;\">\n",
       "      <th></th>\n",
       "      <th>日付</th>\n",
       "      <th>最高気温</th>\n",
       "      <th>客数</th>\n",
       "    </tr>\n",
       "  </thead>\n",
       "  <tbody>\n",
       "    <tr>\n",
       "      <th>0</th>\n",
       "      <td>1</td>\n",
       "      <td>29</td>\n",
       "      <td>312</td>\n",
       "    </tr>\n",
       "    <tr>\n",
       "      <th>1</th>\n",
       "      <td>2</td>\n",
       "      <td>30</td>\n",
       "      <td>348</td>\n",
       "    </tr>\n",
       "    <tr>\n",
       "      <th>2</th>\n",
       "      <td>3</td>\n",
       "      <td>29</td>\n",
       "      <td>284</td>\n",
       "    </tr>\n",
       "    <tr>\n",
       "      <th>3</th>\n",
       "      <td>4</td>\n",
       "      <td>32</td>\n",
       "      <td>369</td>\n",
       "    </tr>\n",
       "    <tr>\n",
       "      <th>4</th>\n",
       "      <td>5</td>\n",
       "      <td>33</td>\n",
       "      <td>420</td>\n",
       "    </tr>\n",
       "    <tr>\n",
       "      <th>5</th>\n",
       "      <td>6</td>\n",
       "      <td>32</td>\n",
       "      <td>536</td>\n",
       "    </tr>\n",
       "    <tr>\n",
       "      <th>6</th>\n",
       "      <td>7</td>\n",
       "      <td>34</td>\n",
       "      <td>652</td>\n",
       "    </tr>\n",
       "    <tr>\n",
       "      <th>7</th>\n",
       "      <td>8</td>\n",
       "      <td>27</td>\n",
       "      <td>275</td>\n",
       "    </tr>\n",
       "    <tr>\n",
       "      <th>8</th>\n",
       "      <td>9</td>\n",
       "      <td>28</td>\n",
       "      <td>294</td>\n",
       "    </tr>\n",
       "    <tr>\n",
       "      <th>9</th>\n",
       "      <td>10</td>\n",
       "      <td>32</td>\n",
       "      <td>368</td>\n",
       "    </tr>\n",
       "    <tr>\n",
       "      <th>10</th>\n",
       "      <td>11</td>\n",
       "      <td>34</td>\n",
       "      <td>451</td>\n",
       "    </tr>\n",
       "    <tr>\n",
       "      <th>11</th>\n",
       "      <td>12</td>\n",
       "      <td>32</td>\n",
       "      <td>405</td>\n",
       "    </tr>\n",
       "    <tr>\n",
       "      <th>12</th>\n",
       "      <td>13</td>\n",
       "      <td>30</td>\n",
       "      <td>458</td>\n",
       "    </tr>\n",
       "    <tr>\n",
       "      <th>13</th>\n",
       "      <td>14</td>\n",
       "      <td>28</td>\n",
       "      <td>422</td>\n",
       "    </tr>\n",
       "  </tbody>\n",
       "</table>\n",
       "</div>"
      ],
      "text/plain": [
       "    日付  最高気温   客数\n",
       "0    1    29  312\n",
       "1    2    30  348\n",
       "2    3    29  284\n",
       "3    4    32  369\n",
       "4    5    33  420\n",
       "5    6    32  536\n",
       "6    7    34  652\n",
       "7    8    27  275\n",
       "8    9    28  294\n",
       "9   10    32  368\n",
       "10  11    34  451\n",
       "11  12    32  405\n",
       "12  13    30  458\n",
       "13  14    28  422"
      ]
     },
     "execution_count": 58,
     "metadata": {},
     "output_type": "execute_result"
    }
   ],
   "source": [
    "# ファイルを `df` という変数に読み込む\n",
    "df = pd.read_csv('data/ice_cream.csv') \n",
    "\n",
    "# dfの中身を表示\n",
    "df"
   ]
  },
  {
   "cell_type": "markdown",
   "metadata": {},
   "source": [
    "上の出力の結果から，「日付」，「最高気温」，「客数」の3つの列で構成されるデータが読み込まれていることがわかる．\n",
    "なお，一番左の列はPandasによって付けられた行のインデックスである．このインデックスは0からスタートしていることに気をつけよう．\n",
    "\n",
    "`````{admonition} 列名（ヘッダ）の認識\n",
    ":class: tip\n",
    "\n",
    "`read_csv` 関数では，デフォルトでCSVファイル中の1行目の情報を列名（ヘッダ）として解釈してくれる．\n",
    "先ほど読み込んだ `ice_cream.csv` はまさに1行目にヘッダが入っていたため上手くいったが，場合によってはヘッダのないCSVファイルを読み込むこともあるだろう．\n",
    "\n",
    "そのような場合は，`read_csv` 関数の引数として `header=None` とすればよい．\n",
    "\n",
    "```python\n",
    "df = pd.read_csv('data/sample_no_header.csv', header=None) \n",
    "```\n",
    "\n",
    "また，列名を自分で設定したい場合は，引数 `names` で指定できる．\n",
    "\n",
    "```python\n",
    "df = pd.read_csv('data/sample_no_header.csv', header=None, names=['A', 'B', 'C', 'D']) \n",
    "```\n",
    "\n",
    "`````"
   ]
  },
  {
   "cell_type": "markdown",
   "metadata": {},
   "source": [
    "### 列の抽出\n",
    "\n",
    "データフレームから任意の列を抽出したい場合，`DataFrame['列名']` のように書けばよい（文字列として指定するため，クォーテーション `'` で囲っていることに注意）．\n",
    "例えば上記 `df` から「最高気温」の列を取り出したい場合は，以下の通りである．"
   ]
  },
  {
   "cell_type": "code",
   "execution_count": 59,
   "metadata": {},
   "outputs": [
    {
     "data": {
      "text/plain": [
       "0     29\n",
       "1     30\n",
       "2     29\n",
       "3     32\n",
       "4     33\n",
       "5     32\n",
       "6     34\n",
       "7     27\n",
       "8     28\n",
       "9     32\n",
       "10    34\n",
       "11    32\n",
       "12    30\n",
       "13    28\n",
       "Name: 最高気温, dtype: int64"
      ]
     },
     "execution_count": 59,
     "metadata": {},
     "output_type": "execute_result"
    }
   ],
   "source": [
    "df['最高気温']"
   ]
  },
  {
   "cell_type": "markdown",
   "metadata": {},
   "source": [
    "同様にして，「客数」の列を取り出してみよう．"
   ]
  },
  {
   "cell_type": "code",
   "execution_count": 60,
   "metadata": {},
   "outputs": [
    {
     "data": {
      "text/plain": [
       "0     312\n",
       "1     348\n",
       "2     284\n",
       "3     369\n",
       "4     420\n",
       "5     536\n",
       "6     652\n",
       "7     275\n",
       "8     294\n",
       "9     368\n",
       "10    451\n",
       "11    405\n",
       "12    458\n",
       "13    422\n",
       "Name: 客数, dtype: int64"
      ]
     },
     "execution_count": 60,
     "metadata": {},
     "output_type": "execute_result"
    }
   ],
   "source": [
    "df['客数']"
   ]
  },
  {
   "cell_type": "markdown",
   "metadata": {},
   "source": [
    "なお，複数の列を取り出したい場合は，取り出したい列名のリスト `['列1', '列2', '列3', ...]` を `DataFrame[ ]` の括弧 `[ ]` の中に記述すればよい．\n",
    "\n",
    "```python\n",
    "DataFrame[['列1', '列2', '列3', ...] ]\n",
    "```\n",
    "\n",
    "括弧 `[ ]` が二重になっていることに注意すること．\n",
    "\n",
    "例えば最高気温と客数の両方を取り出したい場合は，以下のような書き方になる．"
   ]
  },
  {
   "cell_type": "code",
   "execution_count": 61,
   "metadata": {
    "scrolled": false
   },
   "outputs": [
    {
     "data": {
      "text/html": [
       "<div>\n",
       "<style scoped>\n",
       "    .dataframe tbody tr th:only-of-type {\n",
       "        vertical-align: middle;\n",
       "    }\n",
       "\n",
       "    .dataframe tbody tr th {\n",
       "        vertical-align: top;\n",
       "    }\n",
       "\n",
       "    .dataframe thead th {\n",
       "        text-align: right;\n",
       "    }\n",
       "</style>\n",
       "<table border=\"1\" class=\"dataframe\">\n",
       "  <thead>\n",
       "    <tr style=\"text-align: right;\">\n",
       "      <th></th>\n",
       "      <th>最高気温</th>\n",
       "      <th>客数</th>\n",
       "    </tr>\n",
       "  </thead>\n",
       "  <tbody>\n",
       "    <tr>\n",
       "      <th>0</th>\n",
       "      <td>29</td>\n",
       "      <td>312</td>\n",
       "    </tr>\n",
       "    <tr>\n",
       "      <th>1</th>\n",
       "      <td>30</td>\n",
       "      <td>348</td>\n",
       "    </tr>\n",
       "    <tr>\n",
       "      <th>2</th>\n",
       "      <td>29</td>\n",
       "      <td>284</td>\n",
       "    </tr>\n",
       "    <tr>\n",
       "      <th>3</th>\n",
       "      <td>32</td>\n",
       "      <td>369</td>\n",
       "    </tr>\n",
       "    <tr>\n",
       "      <th>4</th>\n",
       "      <td>33</td>\n",
       "      <td>420</td>\n",
       "    </tr>\n",
       "    <tr>\n",
       "      <th>5</th>\n",
       "      <td>32</td>\n",
       "      <td>536</td>\n",
       "    </tr>\n",
       "    <tr>\n",
       "      <th>6</th>\n",
       "      <td>34</td>\n",
       "      <td>652</td>\n",
       "    </tr>\n",
       "    <tr>\n",
       "      <th>7</th>\n",
       "      <td>27</td>\n",
       "      <td>275</td>\n",
       "    </tr>\n",
       "    <tr>\n",
       "      <th>8</th>\n",
       "      <td>28</td>\n",
       "      <td>294</td>\n",
       "    </tr>\n",
       "    <tr>\n",
       "      <th>9</th>\n",
       "      <td>32</td>\n",
       "      <td>368</td>\n",
       "    </tr>\n",
       "    <tr>\n",
       "      <th>10</th>\n",
       "      <td>34</td>\n",
       "      <td>451</td>\n",
       "    </tr>\n",
       "    <tr>\n",
       "      <th>11</th>\n",
       "      <td>32</td>\n",
       "      <td>405</td>\n",
       "    </tr>\n",
       "    <tr>\n",
       "      <th>12</th>\n",
       "      <td>30</td>\n",
       "      <td>458</td>\n",
       "    </tr>\n",
       "    <tr>\n",
       "      <th>13</th>\n",
       "      <td>28</td>\n",
       "      <td>422</td>\n",
       "    </tr>\n",
       "  </tbody>\n",
       "</table>\n",
       "</div>"
      ],
      "text/plain": [
       "    最高気温   客数\n",
       "0     29  312\n",
       "1     30  348\n",
       "2     29  284\n",
       "3     32  369\n",
       "4     33  420\n",
       "5     32  536\n",
       "6     34  652\n",
       "7     27  275\n",
       "8     28  294\n",
       "9     32  368\n",
       "10    34  451\n",
       "11    32  405\n",
       "12    30  458\n",
       "13    28  422"
      ]
     },
     "execution_count": 61,
     "metadata": {},
     "output_type": "execute_result"
    }
   ],
   "source": [
    "df[['最高気温', '客数']]"
   ]
  },
  {
   "cell_type": "markdown",
   "metadata": {},
   "source": [
    "### 行の抽出\n",
    "\n",
    "コロン（`:`）で行のインデックスを指定することで，特定の区間の行を抽出することができる．\n",
    "\n",
    "例えば，2行目から5行目までを抽出したい場合は，スライシングを用いて以下のように書けば良い．"
   ]
  },
  {
   "cell_type": "code",
   "execution_count": 62,
   "metadata": {},
   "outputs": [
    {
     "data": {
      "text/html": [
       "<div>\n",
       "<style scoped>\n",
       "    .dataframe tbody tr th:only-of-type {\n",
       "        vertical-align: middle;\n",
       "    }\n",
       "\n",
       "    .dataframe tbody tr th {\n",
       "        vertical-align: top;\n",
       "    }\n",
       "\n",
       "    .dataframe thead th {\n",
       "        text-align: right;\n",
       "    }\n",
       "</style>\n",
       "<table border=\"1\" class=\"dataframe\">\n",
       "  <thead>\n",
       "    <tr style=\"text-align: right;\">\n",
       "      <th></th>\n",
       "      <th>日付</th>\n",
       "      <th>最高気温</th>\n",
       "      <th>客数</th>\n",
       "    </tr>\n",
       "  </thead>\n",
       "  <tbody>\n",
       "    <tr>\n",
       "      <th>2</th>\n",
       "      <td>3</td>\n",
       "      <td>29</td>\n",
       "      <td>284</td>\n",
       "    </tr>\n",
       "    <tr>\n",
       "      <th>3</th>\n",
       "      <td>4</td>\n",
       "      <td>32</td>\n",
       "      <td>369</td>\n",
       "    </tr>\n",
       "    <tr>\n",
       "      <th>4</th>\n",
       "      <td>5</td>\n",
       "      <td>33</td>\n",
       "      <td>420</td>\n",
       "    </tr>\n",
       "  </tbody>\n",
       "</table>\n",
       "</div>"
      ],
      "text/plain": [
       "   日付  最高気温   客数\n",
       "2   3    29  284\n",
       "3   4    32  369\n",
       "4   5    33  420"
      ]
     },
     "execution_count": 62,
     "metadata": {},
     "output_type": "execute_result"
    }
   ],
   "source": [
    "df[2:5]"
   ]
  },
  {
   "cell_type": "markdown",
   "metadata": {},
   "source": [
    "### 【発展】 `iloc` を用いて特定の行・列を抽出\n",
    "\n",
    "`iloc` を利用すると，DataFrameに対して行番号と列番号を指定してデータを抽出することが可能である．\n",
    "\n",
    "```python\n",
    "DataFrame.iloc[行番号, 列番号]\n",
    "```\n",
    "\n",
    "例えば1行目を抽出する場合は，以下のように書けば良い．なお，行番号のみを指定する場合，列番号の指定は省略できる．"
   ]
  },
  {
   "cell_type": "code",
   "execution_count": 63,
   "metadata": {},
   "outputs": [
    {
     "data": {
      "text/plain": [
       "日付        2\n",
       "最高気温     30\n",
       "客数      348\n",
       "Name: 1, dtype: int64"
      ]
     },
     "execution_count": 63,
     "metadata": {},
     "output_type": "execute_result"
    }
   ],
   "source": [
    "df.iloc[1]"
   ]
  },
  {
   "cell_type": "markdown",
   "metadata": {},
   "source": [
    "また，3行目から6行目を抽出したい場合は，スライシング（復習 → [第2回](../02/variables_and_data_types.ipynb)）を利用して以下のように書くことができる．"
   ]
  },
  {
   "cell_type": "code",
   "execution_count": 64,
   "metadata": {},
   "outputs": [
    {
     "data": {
      "text/html": [
       "<div>\n",
       "<style scoped>\n",
       "    .dataframe tbody tr th:only-of-type {\n",
       "        vertical-align: middle;\n",
       "    }\n",
       "\n",
       "    .dataframe tbody tr th {\n",
       "        vertical-align: top;\n",
       "    }\n",
       "\n",
       "    .dataframe thead th {\n",
       "        text-align: right;\n",
       "    }\n",
       "</style>\n",
       "<table border=\"1\" class=\"dataframe\">\n",
       "  <thead>\n",
       "    <tr style=\"text-align: right;\">\n",
       "      <th></th>\n",
       "      <th>日付</th>\n",
       "      <th>最高気温</th>\n",
       "      <th>客数</th>\n",
       "    </tr>\n",
       "  </thead>\n",
       "  <tbody>\n",
       "    <tr>\n",
       "      <th>3</th>\n",
       "      <td>4</td>\n",
       "      <td>32</td>\n",
       "      <td>369</td>\n",
       "    </tr>\n",
       "    <tr>\n",
       "      <th>4</th>\n",
       "      <td>5</td>\n",
       "      <td>33</td>\n",
       "      <td>420</td>\n",
       "    </tr>\n",
       "    <tr>\n",
       "      <th>5</th>\n",
       "      <td>6</td>\n",
       "      <td>32</td>\n",
       "      <td>536</td>\n",
       "    </tr>\n",
       "  </tbody>\n",
       "</table>\n",
       "</div>"
      ],
      "text/plain": [
       "   日付  最高気温   客数\n",
       "3   4    32  369\n",
       "4   5    33  420\n",
       "5   6    32  536"
      ]
     },
     "execution_count": 64,
     "metadata": {},
     "output_type": "execute_result"
    }
   ],
   "source": [
    "df.iloc[3:6]"
   ]
  },
  {
   "cell_type": "markdown",
   "metadata": {},
   "source": [
    "今度は列を考える．\n",
    "例えば2列目を抽出したい場合は，行の指定を `:` （すべての行という意味）とし，列の指定を `2` とする． "
   ]
  },
  {
   "cell_type": "code",
   "execution_count": 65,
   "metadata": {},
   "outputs": [
    {
     "data": {
      "text/plain": [
       "0     312\n",
       "1     348\n",
       "2     284\n",
       "3     369\n",
       "4     420\n",
       "5     536\n",
       "6     652\n",
       "7     275\n",
       "8     294\n",
       "9     368\n",
       "10    451\n",
       "11    405\n",
       "12    458\n",
       "13    422\n",
       "Name: 客数, dtype: int64"
      ]
     },
     "execution_count": 65,
     "metadata": {},
     "output_type": "execute_result"
    }
   ],
   "source": [
    "df.iloc[:, 2]"
   ]
  },
  {
   "cell_type": "markdown",
   "metadata": {},
   "source": [
    "これらを組み合わせ，例えば2列目の3行目から6行目を抽出したい場合は，以下のように書けばよい，"
   ]
  },
  {
   "cell_type": "code",
   "execution_count": 66,
   "metadata": {},
   "outputs": [
    {
     "data": {
      "text/plain": [
       "3    369\n",
       "4    420\n",
       "5    536\n",
       "Name: 客数, dtype: int64"
      ]
     },
     "execution_count": 66,
     "metadata": {},
     "output_type": "execute_result"
    }
   ],
   "source": [
    "df.iloc[3:6, 2]"
   ]
  },
  {
   "cell_type": "markdown",
   "metadata": {},
   "source": [
    "### 条件による抽出\n",
    "\n",
    "`True` または `False` を返す条件式を指定することで，データフレームから条件を満たす任意の行を抽出することができる．\n",
    "\n",
    "例えば，データフレーム `df` から，「最高気温が30度より大きい」の行だけ抜き出したいとしよう．\n",
    "これを表す条件式は， `df['最高気温'] > 30` となる．\n",
    "実際に実行してみよう．"
   ]
  },
  {
   "cell_type": "code",
   "execution_count": 67,
   "metadata": {},
   "outputs": [
    {
     "data": {
      "text/plain": [
       "0     False\n",
       "1     False\n",
       "2     False\n",
       "3      True\n",
       "4      True\n",
       "5      True\n",
       "6      True\n",
       "7     False\n",
       "8     False\n",
       "9      True\n",
       "10     True\n",
       "11     True\n",
       "12    False\n",
       "13    False\n",
       "Name: 最高気温, dtype: bool"
      ]
     },
     "execution_count": 67,
     "metadata": {},
     "output_type": "execute_result"
    }
   ],
   "source": [
    "df['最高気温'] > 30"
   ]
  },
  {
   "cell_type": "markdown",
   "metadata": {},
   "source": [
    "縦に `True` と `False` がズラッと並んでいるが，これはデータフレーム `df` のうち，どの行が条件式 `df['最高気温'] > 30` を満たすかを表している．\n",
    "上記の出力で条件式が満たされる（つまり `True` になっている）のは，行インデックスが「3, 4, 5, 6, 9, 10, 11」の場合であることがわかる．\n",
    "\n",
    "実際に上の方で出力した `df` の中身と照らし合わせてみよう．\n",
    "`True` となっている行における最高気温が30度よりも大きくなっているはずだ．\n",
    "\n",
    "最終的には， `DataFrame[条件式]` のように書くことで，条件式を満たす行のみを取り出すことができる．"
   ]
  },
  {
   "cell_type": "code",
   "execution_count": 68,
   "metadata": {},
   "outputs": [
    {
     "data": {
      "text/html": [
       "<div>\n",
       "<style scoped>\n",
       "    .dataframe tbody tr th:only-of-type {\n",
       "        vertical-align: middle;\n",
       "    }\n",
       "\n",
       "    .dataframe tbody tr th {\n",
       "        vertical-align: top;\n",
       "    }\n",
       "\n",
       "    .dataframe thead th {\n",
       "        text-align: right;\n",
       "    }\n",
       "</style>\n",
       "<table border=\"1\" class=\"dataframe\">\n",
       "  <thead>\n",
       "    <tr style=\"text-align: right;\">\n",
       "      <th></th>\n",
       "      <th>日付</th>\n",
       "      <th>最高気温</th>\n",
       "      <th>客数</th>\n",
       "    </tr>\n",
       "  </thead>\n",
       "  <tbody>\n",
       "    <tr>\n",
       "      <th>3</th>\n",
       "      <td>4</td>\n",
       "      <td>32</td>\n",
       "      <td>369</td>\n",
       "    </tr>\n",
       "    <tr>\n",
       "      <th>4</th>\n",
       "      <td>5</td>\n",
       "      <td>33</td>\n",
       "      <td>420</td>\n",
       "    </tr>\n",
       "    <tr>\n",
       "      <th>5</th>\n",
       "      <td>6</td>\n",
       "      <td>32</td>\n",
       "      <td>536</td>\n",
       "    </tr>\n",
       "    <tr>\n",
       "      <th>6</th>\n",
       "      <td>7</td>\n",
       "      <td>34</td>\n",
       "      <td>652</td>\n",
       "    </tr>\n",
       "    <tr>\n",
       "      <th>9</th>\n",
       "      <td>10</td>\n",
       "      <td>32</td>\n",
       "      <td>368</td>\n",
       "    </tr>\n",
       "    <tr>\n",
       "      <th>10</th>\n",
       "      <td>11</td>\n",
       "      <td>34</td>\n",
       "      <td>451</td>\n",
       "    </tr>\n",
       "    <tr>\n",
       "      <th>11</th>\n",
       "      <td>12</td>\n",
       "      <td>32</td>\n",
       "      <td>405</td>\n",
       "    </tr>\n",
       "  </tbody>\n",
       "</table>\n",
       "</div>"
      ],
      "text/plain": [
       "    日付  最高気温   客数\n",
       "3    4    32  369\n",
       "4    5    33  420\n",
       "5    6    32  536\n",
       "6    7    34  652\n",
       "9   10    32  368\n",
       "10  11    34  451\n",
       "11  12    32  405"
      ]
     },
     "execution_count": 68,
     "metadata": {},
     "output_type": "execute_result"
    }
   ],
   "source": [
    "df[df['最高気温'] > 30]"
   ]
  },
  {
   "cell_type": "markdown",
   "metadata": {},
   "source": [
    "同様に，「客数が400より少ない」行だけを抜き出してみよう．"
   ]
  },
  {
   "cell_type": "code",
   "execution_count": 69,
   "metadata": {},
   "outputs": [
    {
     "data": {
      "text/html": [
       "<div>\n",
       "<style scoped>\n",
       "    .dataframe tbody tr th:only-of-type {\n",
       "        vertical-align: middle;\n",
       "    }\n",
       "\n",
       "    .dataframe tbody tr th {\n",
       "        vertical-align: top;\n",
       "    }\n",
       "\n",
       "    .dataframe thead th {\n",
       "        text-align: right;\n",
       "    }\n",
       "</style>\n",
       "<table border=\"1\" class=\"dataframe\">\n",
       "  <thead>\n",
       "    <tr style=\"text-align: right;\">\n",
       "      <th></th>\n",
       "      <th>日付</th>\n",
       "      <th>最高気温</th>\n",
       "      <th>客数</th>\n",
       "    </tr>\n",
       "  </thead>\n",
       "  <tbody>\n",
       "    <tr>\n",
       "      <th>0</th>\n",
       "      <td>1</td>\n",
       "      <td>29</td>\n",
       "      <td>312</td>\n",
       "    </tr>\n",
       "    <tr>\n",
       "      <th>1</th>\n",
       "      <td>2</td>\n",
       "      <td>30</td>\n",
       "      <td>348</td>\n",
       "    </tr>\n",
       "    <tr>\n",
       "      <th>2</th>\n",
       "      <td>3</td>\n",
       "      <td>29</td>\n",
       "      <td>284</td>\n",
       "    </tr>\n",
       "    <tr>\n",
       "      <th>3</th>\n",
       "      <td>4</td>\n",
       "      <td>32</td>\n",
       "      <td>369</td>\n",
       "    </tr>\n",
       "    <tr>\n",
       "      <th>7</th>\n",
       "      <td>8</td>\n",
       "      <td>27</td>\n",
       "      <td>275</td>\n",
       "    </tr>\n",
       "    <tr>\n",
       "      <th>8</th>\n",
       "      <td>9</td>\n",
       "      <td>28</td>\n",
       "      <td>294</td>\n",
       "    </tr>\n",
       "    <tr>\n",
       "      <th>9</th>\n",
       "      <td>10</td>\n",
       "      <td>32</td>\n",
       "      <td>368</td>\n",
       "    </tr>\n",
       "  </tbody>\n",
       "</table>\n",
       "</div>"
      ],
      "text/plain": [
       "   日付  最高気温   客数\n",
       "0   1    29  312\n",
       "1   2    30  348\n",
       "2   3    29  284\n",
       "3   4    32  369\n",
       "7   8    27  275\n",
       "8   9    28  294\n",
       "9  10    32  368"
      ]
     },
     "execution_count": 69,
     "metadata": {},
     "output_type": "execute_result"
    }
   ],
   "source": [
    "df[df['客数'] < 400]"
   ]
  },
  {
   "cell_type": "markdown",
   "metadata": {},
   "source": [
    "このうち，さらに「客数が400より少ない」行について，「最高気温」だけを抜き出したい場合は，`DataFrame[条件式]['列名']` のように，列名を指定する `[ ]` を後ろにくっ付ければよい．"
   ]
  },
  {
   "cell_type": "code",
   "execution_count": 70,
   "metadata": {},
   "outputs": [
    {
     "data": {
      "text/plain": [
       "0    29\n",
       "1    30\n",
       "2    29\n",
       "3    32\n",
       "7    27\n",
       "8    28\n",
       "9    32\n",
       "Name: 最高気温, dtype: int64"
      ]
     },
     "execution_count": 70,
     "metadata": {},
     "output_type": "execute_result"
    }
   ],
   "source": [
    "df[df['客数'] < 400]['最高気温']"
   ]
  },
  {
   "cell_type": "markdown",
   "metadata": {},
   "source": [
    "### 複数条件による抽出\n",
    "\n",
    "単一の条件ではなく，複数の条件を使って行を抽出することもできる．\n",
    "\n",
    "そのためには，条件分岐の回で学んだ論理演算子の考え方で各条件を繋げればよい．\n",
    "\n",
    "ただし，条件分岐の際とは以下の2点が異なる．\n",
    "\n",
    "- 条件分岐のときに用いた `and` と `or` は使えない．DataFrameに対して複数の条件を設定する際は，`and` の代わりに `&`， `or` の代わりに `|` を使う必要がある．\n",
    "- 各条件は括弧 `()` で囲む必要がある．\n",
    "\n",
    "例えば，「客数が400より少ない」かつ「最高気温が30度以上」の行だけを抽出したい場合は，以下のように書く．"
   ]
  },
  {
   "cell_type": "code",
   "execution_count": 71,
   "metadata": {},
   "outputs": [
    {
     "data": {
      "text/html": [
       "<div>\n",
       "<style scoped>\n",
       "    .dataframe tbody tr th:only-of-type {\n",
       "        vertical-align: middle;\n",
       "    }\n",
       "\n",
       "    .dataframe tbody tr th {\n",
       "        vertical-align: top;\n",
       "    }\n",
       "\n",
       "    .dataframe thead th {\n",
       "        text-align: right;\n",
       "    }\n",
       "</style>\n",
       "<table border=\"1\" class=\"dataframe\">\n",
       "  <thead>\n",
       "    <tr style=\"text-align: right;\">\n",
       "      <th></th>\n",
       "      <th>日付</th>\n",
       "      <th>最高気温</th>\n",
       "      <th>客数</th>\n",
       "    </tr>\n",
       "  </thead>\n",
       "  <tbody>\n",
       "    <tr>\n",
       "      <th>1</th>\n",
       "      <td>2</td>\n",
       "      <td>30</td>\n",
       "      <td>348</td>\n",
       "    </tr>\n",
       "    <tr>\n",
       "      <th>3</th>\n",
       "      <td>4</td>\n",
       "      <td>32</td>\n",
       "      <td>369</td>\n",
       "    </tr>\n",
       "    <tr>\n",
       "      <th>9</th>\n",
       "      <td>10</td>\n",
       "      <td>32</td>\n",
       "      <td>368</td>\n",
       "    </tr>\n",
       "  </tbody>\n",
       "</table>\n",
       "</div>"
      ],
      "text/plain": [
       "   日付  最高気温   客数\n",
       "1   2    30  348\n",
       "3   4    32  369\n",
       "9  10    32  368"
      ]
     },
     "execution_count": 71,
     "metadata": {},
     "output_type": "execute_result"
    }
   ],
   "source": [
    "df[(df['客数'] < 400) & (df['最高気温'] >= 30)]"
   ]
  },
  {
   "cell_type": "markdown",
   "metadata": {},
   "source": [
    "同様に，「最高気温が30度未満」または「最高気温が33度以上」の行だけを抽出したい場合は，以下のように書く．"
   ]
  },
  {
   "cell_type": "code",
   "execution_count": 72,
   "metadata": {},
   "outputs": [
    {
     "data": {
      "text/html": [
       "<div>\n",
       "<style scoped>\n",
       "    .dataframe tbody tr th:only-of-type {\n",
       "        vertical-align: middle;\n",
       "    }\n",
       "\n",
       "    .dataframe tbody tr th {\n",
       "        vertical-align: top;\n",
       "    }\n",
       "\n",
       "    .dataframe thead th {\n",
       "        text-align: right;\n",
       "    }\n",
       "</style>\n",
       "<table border=\"1\" class=\"dataframe\">\n",
       "  <thead>\n",
       "    <tr style=\"text-align: right;\">\n",
       "      <th></th>\n",
       "      <th>日付</th>\n",
       "      <th>最高気温</th>\n",
       "      <th>客数</th>\n",
       "    </tr>\n",
       "  </thead>\n",
       "  <tbody>\n",
       "    <tr>\n",
       "      <th>0</th>\n",
       "      <td>1</td>\n",
       "      <td>29</td>\n",
       "      <td>312</td>\n",
       "    </tr>\n",
       "    <tr>\n",
       "      <th>2</th>\n",
       "      <td>3</td>\n",
       "      <td>29</td>\n",
       "      <td>284</td>\n",
       "    </tr>\n",
       "    <tr>\n",
       "      <th>4</th>\n",
       "      <td>5</td>\n",
       "      <td>33</td>\n",
       "      <td>420</td>\n",
       "    </tr>\n",
       "    <tr>\n",
       "      <th>6</th>\n",
       "      <td>7</td>\n",
       "      <td>34</td>\n",
       "      <td>652</td>\n",
       "    </tr>\n",
       "    <tr>\n",
       "      <th>7</th>\n",
       "      <td>8</td>\n",
       "      <td>27</td>\n",
       "      <td>275</td>\n",
       "    </tr>\n",
       "    <tr>\n",
       "      <th>8</th>\n",
       "      <td>9</td>\n",
       "      <td>28</td>\n",
       "      <td>294</td>\n",
       "    </tr>\n",
       "    <tr>\n",
       "      <th>10</th>\n",
       "      <td>11</td>\n",
       "      <td>34</td>\n",
       "      <td>451</td>\n",
       "    </tr>\n",
       "    <tr>\n",
       "      <th>13</th>\n",
       "      <td>14</td>\n",
       "      <td>28</td>\n",
       "      <td>422</td>\n",
       "    </tr>\n",
       "  </tbody>\n",
       "</table>\n",
       "</div>"
      ],
      "text/plain": [
       "    日付  最高気温   客数\n",
       "0    1    29  312\n",
       "2    3    29  284\n",
       "4    5    33  420\n",
       "6    7    34  652\n",
       "7    8    27  275\n",
       "8    9    28  294\n",
       "10  11    34  451\n",
       "13  14    28  422"
      ]
     },
     "execution_count": 72,
     "metadata": {},
     "output_type": "execute_result"
    }
   ],
   "source": [
    "df[(df['最高気温'] < 30) | (df['最高気温'] >=33)]"
   ]
  },
  {
   "cell_type": "markdown",
   "metadata": {},
   "source": [
    "### 要約統計量の算出\n",
    "\n",
    "データが与えられた時，生の数字だけを見てもなかなか情報は得られない．\n",
    "多くの場合，データの特徴を要約した数値を計算し，全体の傾向の掴んだり，さまざまな条件で比較したりする．\n",
    "\n",
    "このとき計算される数値のことを **要約統計量** や **記述統計量** と呼ぶ．\n",
    "これには様々な種類があるが，今回は最も基本的な5つの要約統計量を計算してみよう．\n",
    "\n",
    "各統計量は，データフレームに対して以下のように書くことで計算できる．\n",
    "\n",
    "```python\n",
    "DataFrame.統計量()\n",
    "```\n",
    "\n",
    "今回はデータ中の最高気温に対して，各種統計量を計算してみる．"
   ]
  },
  {
   "cell_type": "markdown",
   "metadata": {},
   "source": [
    "**最小値**（`min`）：データに含まれる最も小さい数．"
   ]
  },
  {
   "cell_type": "code",
   "execution_count": 73,
   "metadata": {},
   "outputs": [
    {
     "data": {
      "text/plain": [
       "27"
      ]
     },
     "execution_count": 73,
     "metadata": {},
     "output_type": "execute_result"
    }
   ],
   "source": [
    "df['最高気温'].min() # 最小値の計算"
   ]
  },
  {
   "cell_type": "markdown",
   "metadata": {},
   "source": [
    "**最大値**（`max`）：データに含まれる最も大きい数．"
   ]
  },
  {
   "cell_type": "code",
   "execution_count": 74,
   "metadata": {},
   "outputs": [
    {
     "data": {
      "text/plain": [
       "34"
      ]
     },
     "execution_count": 74,
     "metadata": {},
     "output_type": "execute_result"
    }
   ],
   "source": [
    "df['最高気温'].max() # 最大値の計算"
   ]
  },
  {
   "cell_type": "markdown",
   "metadata": {},
   "source": [
    "**平均値**（`mean`）：データの中間的な値を表す統計量．$N$ 個のデータ $x_1, x_2, \\ldots, x_N$ に対して，以下のようにデータの合計を個数で割ることで計算される．\n",
    "\n",
    "$$\n",
    "\\bar{x} = \\frac{1}{N} \\sum_{i=1}^N x_i\n",
    "$$"
   ]
  },
  {
   "cell_type": "code",
   "execution_count": 75,
   "metadata": {},
   "outputs": [
    {
     "data": {
      "text/plain": [
       "30.714285714285715"
      ]
     },
     "execution_count": 75,
     "metadata": {},
     "output_type": "execute_result"
    }
   ],
   "source": [
    "df['最高気温'].mean() # 平均値の計算"
   ]
  },
  {
   "cell_type": "markdown",
   "metadata": {},
   "source": [
    "**分散**（`var`）：データのばらつき具合を表す統計量．以下の式で計算される．\n",
    "\n",
    "$$\n",
    "s^2 = \\frac{1}{N} \\sum_{i=1}^N (x_i - \\bar{x})^2\n",
    "$$"
   ]
  },
  {
   "cell_type": "code",
   "execution_count": 76,
   "metadata": {},
   "outputs": [
    {
     "data": {
      "text/plain": [
       "5.296703296703297"
      ]
     },
     "execution_count": 76,
     "metadata": {},
     "output_type": "execute_result"
    }
   ],
   "source": [
    "df['最高気温'].var() # 分散の計算"
   ]
  },
  {
   "cell_type": "markdown",
   "metadata": {},
   "source": [
    "**標準偏差**（`std`）：分散 $s^2$ の平方根で計算される．分散は各データを2乗した値から求めているため，平均と比較することができない．分散の平方根を計算することで，データのばらつきを平均を比較できるようになる．\n",
    "\n",
    "$$\n",
    "s = \\sqrt{s^2}\n",
    "$$"
   ]
  },
  {
   "cell_type": "code",
   "execution_count": 77,
   "metadata": {},
   "outputs": [
    {
     "data": {
      "text/plain": [
       "2.3014567770660603"
      ]
     },
     "execution_count": 77,
     "metadata": {},
     "output_type": "execute_result"
    }
   ],
   "source": [
    "df['最高気温'].std() # 標準偏差の計算"
   ]
  },
  {
   "cell_type": "markdown",
   "metadata": {},
   "source": [
    "以上をまとめると，14日間における最高気温は27度から34度の範囲で変化し，平均値は約30.7度，標準偏差は約2.3度なので，値のばらつきはそこまで大きくないことがわかった．\n",
    "\n",
    "なお，上記の例では一つ一つ記述統計量を算出したが，`describe()` メソッドを用いることで，DataFrameの各列に対して複数の要約統計量を一気に計算することもできる．"
   ]
  },
  {
   "cell_type": "code",
   "execution_count": 78,
   "metadata": {},
   "outputs": [
    {
     "data": {
      "text/html": [
       "<div>\n",
       "<style scoped>\n",
       "    .dataframe tbody tr th:only-of-type {\n",
       "        vertical-align: middle;\n",
       "    }\n",
       "\n",
       "    .dataframe tbody tr th {\n",
       "        vertical-align: top;\n",
       "    }\n",
       "\n",
       "    .dataframe thead th {\n",
       "        text-align: right;\n",
       "    }\n",
       "</style>\n",
       "<table border=\"1\" class=\"dataframe\">\n",
       "  <thead>\n",
       "    <tr style=\"text-align: right;\">\n",
       "      <th></th>\n",
       "      <th>日付</th>\n",
       "      <th>最高気温</th>\n",
       "      <th>客数</th>\n",
       "    </tr>\n",
       "  </thead>\n",
       "  <tbody>\n",
       "    <tr>\n",
       "      <th>count</th>\n",
       "      <td>14.0000</td>\n",
       "      <td>14.000000</td>\n",
       "      <td>14.000000</td>\n",
       "    </tr>\n",
       "    <tr>\n",
       "      <th>mean</th>\n",
       "      <td>7.5000</td>\n",
       "      <td>30.714286</td>\n",
       "      <td>399.571429</td>\n",
       "    </tr>\n",
       "    <tr>\n",
       "      <th>std</th>\n",
       "      <td>4.1833</td>\n",
       "      <td>2.301457</td>\n",
       "      <td>104.374116</td>\n",
       "    </tr>\n",
       "    <tr>\n",
       "      <th>min</th>\n",
       "      <td>1.0000</td>\n",
       "      <td>27.000000</td>\n",
       "      <td>275.000000</td>\n",
       "    </tr>\n",
       "    <tr>\n",
       "      <th>25%</th>\n",
       "      <td>4.2500</td>\n",
       "      <td>29.000000</td>\n",
       "      <td>321.000000</td>\n",
       "    </tr>\n",
       "    <tr>\n",
       "      <th>50%</th>\n",
       "      <td>7.5000</td>\n",
       "      <td>31.000000</td>\n",
       "      <td>387.000000</td>\n",
       "    </tr>\n",
       "    <tr>\n",
       "      <th>75%</th>\n",
       "      <td>10.7500</td>\n",
       "      <td>32.000000</td>\n",
       "      <td>443.750000</td>\n",
       "    </tr>\n",
       "    <tr>\n",
       "      <th>max</th>\n",
       "      <td>14.0000</td>\n",
       "      <td>34.000000</td>\n",
       "      <td>652.000000</td>\n",
       "    </tr>\n",
       "  </tbody>\n",
       "</table>\n",
       "</div>"
      ],
      "text/plain": [
       "            日付       最高気温          客数\n",
       "count  14.0000  14.000000   14.000000\n",
       "mean    7.5000  30.714286  399.571429\n",
       "std     4.1833   2.301457  104.374116\n",
       "min     1.0000  27.000000  275.000000\n",
       "25%     4.2500  29.000000  321.000000\n",
       "50%     7.5000  31.000000  387.000000\n",
       "75%    10.7500  32.000000  443.750000\n",
       "max    14.0000  34.000000  652.000000"
      ]
     },
     "execution_count": 78,
     "metadata": {},
     "output_type": "execute_result"
    }
   ],
   "source": [
    "df.describe()"
   ]
  },
  {
   "cell_type": "markdown",
   "metadata": {},
   "source": [
    "```{admonition} Pandasによるデータ分析のまとめ\n",
    "- Pandasというライブラリを用いることで，データの収集や整理，加工が容易となる\n",
    "- PandasではDataFrameやSeriesといったデータ構造が利用される\n",
    "- DataFrameの列や行に対してに対して条件式などを用いた用いた抽出が可能である\n",
    "```"
   ]
  },
  {
   "cell_type": "markdown",
   "metadata": {},
   "source": [
    "## `Matplotlib` によるデータの可視化"
   ]
  },
  {
   "cell_type": "markdown",
   "metadata": {},
   "source": [
    "データ分析において，集計した結果を図やグラフなどを用いて視覚的に表示してみることは非常に重要である．\n",
    "そのデータから読み取ることができる情報と，それに基づく意思決定にまで影響を及ぼす．\n",
    "このような操作を，データの **可視化（visualization）** と呼ぶ．\n",
    "\n",
    "ここでは，グラフ描画用ライブラリである **Matplotlib** のモジュールを使用して，データを可視化するためのグラフを作成していく．\n",
    "\n",
    "Matplotlibライブラリを使用するためには，まず `matplotlib` のモジュールをインポートする．\n",
    "ここでは，基本的なグラフを描画するための `matplotlib.pyplot` というモジュールを使用する．\n",
    "慣例として，同モジュールに `plt` という短縮名を付けて利用しよう．"
   ]
  },
  {
   "cell_type": "code",
   "execution_count": 79,
   "metadata": {},
   "outputs": [],
   "source": [
    "import matplotlib.pyplot as plt\n",
    "%matplotlib inline"
   ]
  },
  {
   "cell_type": "markdown",
   "metadata": {},
   "source": [
    "なお，`%matplotlib inline` は，ノートブック内でグラフを表示するために必要なコードである．\n",
    "\n",
    "なお，以下はMatplotlibで日本語フォントを扱うための設定用コードなので，実行だけして中身は無視して構わない．"
   ]
  },
  {
   "cell_type": "code",
   "execution_count": 80,
   "metadata": {},
   "outputs": [],
   "source": [
    "from matplotlib import rcParams\n",
    "rcParams['font.family'] = 'sans-serif'\n",
    "rcParams['font.sans-serif'] = ['Hiragino Sans', 'Yu Gothic', 'Meirio', 'Takao', 'IPAexGothic', 'IPAPGothic', 'VL PGothic', 'Noto Sans CJK JP']"
   ]
  },
  {
   "cell_type": "markdown",
   "metadata": {},
   "source": [
    "````{admonition} 【補足】上記コードが気になる人向けの解説\n",
    ":class: note, dropdown\n",
    "\n",
    "上記のコードについて簡単に解説する（気にならない人はスルーしてよい）．\n",
    "\n",
    "まず一行目では，Matplotlibに含まれる `rcParams` という辞書形式のオブジェクトをインポートしている．\n",
    "ここにはさまざまなデフォルト設定値が格納されており，この設定値を変更することで，プログラム全体のグラフに対して見た目などの変更が可能である．\n",
    "\n",
    "`rcParams['font.family']` を変更することで，グラフ中のフォントを任意に設定できる．\n",
    "ただし，使用しているPC環境（OSやブラウザ）によっては特定のフォントが使えたり使えなかったりするため，フォントの大きなカテゴリ（総称フォントと呼ばれる）である `sans-serif` を設定している．\n",
    "\n",
    "```python\n",
    "rcParams['font.family'] = 'sans-serif'\n",
    "```\n",
    "\n",
    "`sans-serif` とは日本語フォントでいうところのゴシック体である．\n",
    "\n",
    "また，`rcParams['font.sans-serif']` を変更することで，`sans-serif` として利用可能なフォントの選択肢を具体的に指定している．\n",
    "\n",
    "```python\n",
    "rcParams['font.sans-serif'] = ['Hiragino Sans', 'Yu Gothic', 'Meirio', 'Takao', 'IPAexGothic', 'IPAPGothic', 'VL PGothic', 'Noto Sans CJK JP']\n",
    "```\n",
    "\n",
    "このうち，使用しているPC環境が利用可能なものがグラフ中のフォントとして使用される．\n",
    "例えば，Macであれば必ず `Hiragino Sans` が利用可能であり，Windowsであれば `Yu Gothic` や `Meirio` が，Ubuntuであれば `Noto Sans CJK JP` が使えるはずである．\n",
    "そのため，一般的なPC環境であれば，OSやブラウザを問わず正しく日本語フォントでグラフを出力できるようになっている．\n",
    "\n",
    "\n",
    "````"
   ]
  },
  {
   "cell_type": "markdown",
   "metadata": {},
   "source": [
    "### 線グラフ\n",
    "\n",
    "`pyplot`モジュールに含まれている `plot` 関数を用いて，線グラフを描画していこう．\n",
    "\n",
    "```python\n",
    "plt.plot(X, Y)\n",
    "```\n",
    "\n",
    "と書くことで，x軸に変数 `X`，y軸に変数 `Y` を取った線グラフを表示することができる．\n",
    "このとき，`X` と `Y` にはリストやPandasのSeries，DataFrameなど様々指定できる．\n",
    "\n",
    "まずは，「日付」によって「客数」がどう変わるかをグラフ化してみよう．\n",
    "x軸に日付，y軸に客数を指定してグラフを描画すればよい．"
   ]
  },
  {
   "cell_type": "code",
   "execution_count": 81,
   "metadata": {},
   "outputs": [
    {
     "data": {
      "image/png": "[encoded data removed]",
      "text/plain": [
       "<Figure size 432x288 with 1 Axes>"
      ]
     },
     "metadata": {
      "needs_background": "light"
     },
     "output_type": "display_data"
    }
   ],
   "source": [
    "plt.plot(df['日付'], df['客数']);"
   ]
  },
  {
   "cell_type": "markdown",
   "metadata": {},
   "source": [
    "なお，セルの最後に実行されたオブジェクトの出力表示を無くすため，これ以降グラフを描画する際は，セルの最後の行にセミコロン（`;`）をつけていることに注意されたい（セミコロンが無くてもグラフ自体は問題なく描画できる）．"
   ]
  },
  {
   "cell_type": "markdown",
   "metadata": {},
   "source": [
    "`plot` 関数ではグラフの線の種類や色，データポイントのマーカの種類を，様々な引数で指定できる．\n",
    "\n",
    "例えば，先ほど作成した線グラフにデータポイントの丸型マーカを加えたい場合，`plot` 関数の引数に `marker='o'` を追加する．"
   ]
  },
  {
   "cell_type": "code",
   "execution_count": 82,
   "metadata": {},
   "outputs": [
    {
     "data": {
      "image/png": "[encoded data removed]",
      "text/plain": [
       "<Figure size 432x288 with 1 Axes>"
      ]
     },
     "metadata": {
      "needs_background": "light"
     },
     "output_type": "display_data"
    }
   ],
   "source": [
    "plt.plot(df['日付'], df['客数'], marker='o');"
   ]
  },
  {
   "cell_type": "markdown",
   "metadata": {},
   "source": [
    "引数 `marker` に違う値を指定するとマーカの形状が変わる．"
   ]
  },
  {
   "cell_type": "code",
   "execution_count": 83,
   "metadata": {},
   "outputs": [
    {
     "data": {
      "image/png": "[encoded data removed]",
      "text/plain": [
       "<Figure size 432x288 with 1 Axes>"
      ]
     },
     "metadata": {
      "needs_background": "light"
     },
     "output_type": "display_data"
    }
   ],
   "source": [
    "plt.plot(df['日付'], df['客数'], marker='x');"
   ]
  },
  {
   "cell_type": "markdown",
   "metadata": {},
   "source": [
    "他にも，`linestyle` で線の種類を変えたり，`color` で線の色を変更したりできる．"
   ]
  },
  {
   "cell_type": "code",
   "execution_count": 84,
   "metadata": {},
   "outputs": [
    {
     "data": {
      "image/png": "[encoded data removed]",
      "text/plain": [
       "<Figure size 432x288 with 1 Axes>"
      ]
     },
     "metadata": {
      "needs_background": "light"
     },
     "output_type": "display_data"
    }
   ],
   "source": [
    "plt.plot(df['日付'], df['客数'], marker='*', linestyle='--', color='green');"
   ]
  },
  {
   "cell_type": "markdown",
   "metadata": {},
   "source": [
    "それぞれの引数で指定可能な値は以下を参照されたい．\n",
    "\n",
    "- [linestyle](https://matplotlib.org/api/_as_gen/matplotlib.lines.Line2D.html#matplotlib.lines.Line2D.set_linestyle)\n",
    "- [color](https://matplotlib.org/api/colors_api.html?highlight=color#module-matplotlib.colors)\n",
    "- [marker](https://matplotlib.org/api/markers_api.html#module-matplotlib.markers)\n",
    "\n",
    "`pyplot` モジュールでは，グラフのタイトルと各軸のラベルを指定して表示することができる．\n",
    "タイトルは `title` 関数，x軸のラベルは `xlabel` 関数，y軸のラベルは `ylabel` 関数に文字列を渡すことで指定可能である．"
   ]
  },
  {
   "cell_type": "code",
   "execution_count": 85,
   "metadata": {},
   "outputs": [
    {
     "data": {
      "image/png": "[encoded data removed]",
      "text/plain": [
       "<Figure size 432x288 with 1 Axes>"
      ]
     },
     "metadata": {
      "needs_background": "light"
     },
     "output_type": "display_data"
    }
   ],
   "source": [
    "plt.plot(df['日付'], df['客数'], marker='o') # グラフを作成\n",
    "plt.title('日付と客数の関係') # タイトルを追加\n",
    "plt.xlabel('日付') # x軸のラベルを追加\n",
    "plt.ylabel('客数 (人)'); # y軸のラベルを追加"
   ]
  },
  {
   "cell_type": "markdown",
   "metadata": {},
   "source": [
    "同様に，「日付」によって「最高気温」がどう変わるかを線グラフで描画してみよう．"
   ]
  },
  {
   "cell_type": "code",
   "execution_count": 86,
   "metadata": {},
   "outputs": [
    {
     "data": {
      "image/png": "[encoded data removed]",
      "text/plain": [
       "<Figure size 432x288 with 1 Axes>"
      ]
     },
     "metadata": {
      "needs_background": "light"
     },
     "output_type": "display_data"
    }
   ],
   "source": [
    "plt.plot(df['日付'], df['最高気温'], marker='o') # グラフを作成\n",
    "plt.title('日付と最高気温の関係') # タイトルを追加\n",
    "plt.xlabel('日付') # x軸のラベルを追加\n",
    "plt.ylabel('最高気温（度）'); # y軸のラベルを追加"
   ]
  },
  {
   "cell_type": "markdown",
   "metadata": {},
   "source": [
    "さて，では「日付と客数」のグラフと，「日付と最高気温」のグラフを交互に見てみましょう．\n",
    "何か気がつくことがないだろうか？\n",
    "\n",
    "最高気温が高い日には客数も多く，最高気温が低い日には客数が少ない傾向があるように見える．\n",
    "\n",
    "2つの変数の関係を可視化するために，次に **散布図** というグラフで最高気温と客数の関係を見ていこう．"
   ]
  },
  {
   "cell_type": "markdown",
   "metadata": {},
   "source": [
    "### 散布図\n",
    "\n",
    "散布図とは，横軸と縦軸に異なる要素を設定し，それらの関係性を調べる際に用いられる．\n",
    "\n",
    "Matplotlibでは，`pyplot` モジュールの `scatter` 関数を用いて描画することができる．\n",
    "次のように，\n",
    "\n",
    "```python\n",
    "plt.scatter(X, Y)\n",
    "```\n",
    "\n",
    "と書くことで，x軸に変数 `X`，y軸に変数 `Y` を取った散布図を作成できる．\n",
    "このとき，線グラフの場合と同様に，さまざまな引数を指定することでグラフの見た目を変更できる．\n",
    "ここでは例として，引数 `s` と `alpha` を用いて，各マーカの大きさと透明度を指定している．"
   ]
  },
  {
   "cell_type": "code",
   "execution_count": 87,
   "metadata": {},
   "outputs": [
    {
     "data": {
      "image/png": "[encoded data removed]",
      "text/plain": [
       "<Figure size 432x288 with 1 Axes>"
      ]
     },
     "metadata": {
      "needs_background": "light"
     },
     "output_type": "display_data"
    }
   ],
   "source": [
    "plt.scatter(df['最高気温'], df['客数'], s=100, alpha=0.5)\n",
    "plt.title('最高気温と客数の関係')\n",
    "plt.xlabel('最高気温（度）')\n",
    "plt.ylabel('客数（人）');"
   ]
  },
  {
   "cell_type": "markdown",
   "metadata": {},
   "source": [
    "このグラフをみると，最高気温と客数の間には，右肩上がりの関係があるように見える．\n",
    "つまり，最高気温が高くなればなるほど，客数は多くなるような関係がありそうだ．\n",
    "\n",
    "この関係については，後ほど詳しく考えてみるとして，その前に他のグラフをいくつか紹介する．"
   ]
  },
  {
   "cell_type": "markdown",
   "metadata": {},
   "source": [
    "### 棒グラフ\n",
    "\n",
    "棒グラフは日常でもよく目にするグラフの一つであり，横軸に項目，縦軸にデータ値をとり，棒の高さでデータの大きさを表している．\n",
    "\n",
    "Matplotlibでは，`pyplot` モジュールの `bar` 関数を用いて棒グラフを描画できる．\n",
    "\n",
    "```python\n",
    "plt.bar(X, Y)\n",
    "```\n",
    "\n",
    "先ほどは線グラフで「日付」ごとの「客数」を可視化したが，同じものを棒グラフで表現してみよう．"
   ]
  },
  {
   "cell_type": "code",
   "execution_count": 88,
   "metadata": {},
   "outputs": [
    {
     "data": {
      "image/png": "[encoded data removed]",
      "text/plain": [
       "<Figure size 432x288 with 1 Axes>"
      ]
     },
     "metadata": {
      "needs_background": "light"
     },
     "output_type": "display_data"
    }
   ],
   "source": [
    "plt.bar(df['日付'], df['客数'])\n",
    "plt.title('日付と客数の関係') # タイトルを追加\n",
    "plt.xlabel('日付') # x軸のラベルを追加\n",
    "plt.ylabel('客数 (人)'); # y軸のラベルを追加"
   ]
  },
  {
   "cell_type": "markdown",
   "metadata": {},
   "source": [
    "```{admonition} 線グラフと棒グラフの使い分け\n",
    "\n",
    "上記の通り，今回は「日付」と「客数」の関係を，線グラフと棒グラフという2種類の方法で可視化した．\n",
    "グラフより，どちらも同じような情報を表しているが，どんな時に使い分ければよいだろうか？\n",
    "\n",
    "線グラフの場合は，データ点同士が線で結ばれているため，より日付に応じた変化が強調されているような印象である．\n",
    "一方，棒グラフの場合は，ある日付と別の日付との間の値の差がより分かりやすい印象である．\n",
    "つまり，線グラフは「変化」が強調されており，棒グラフは「大小の違い」が強調されているわけである．\n",
    "\n",
    "このことから，横軸の値が連続したデータ（例：年度ごとの売り上げの推移）に関しては，線グラフの方が分かりやすい場面が多い．\n",
    "一方，横軸の値が独立しているデータ（例：広島，岡山，島根の3地域の売り上げ）については，棒グラフの方が適切だろう．\n",
    "\n",
    "今回の「日付」と「客数」の場合，横軸は連続した「日付」なので，線グラフの方が適切と思われる．\n",
    "\n",
    "ただし，「絶対にどちらかを使うべし」という厳密なルールは存在しない．\n",
    "むしろ，そのグラフから自分がどのような主張を行いたいか，に応じて適切なグラフを使い分けることが大切である．\n",
    "```"
   ]
  },
  {
   "cell_type": "markdown",
   "metadata": {},
   "source": [
    "### 【発展】ヒストグラム\n",
    "\n",
    "ヒストグラムは，データを階級で分割し，横軸に階級，縦軸に各階級の度数をとった統計グラフである．\n",
    "簡単にいうと，データをいくつかの均等な区間に分割するとともに，各区間に含まれるデータの個数を計算し，可視化したものである．\n",
    "主に，データの分布を調べるために用いられる．\n",
    "\n",
    "Matplotlibでは，`pyplot` モジュールの `hist` 関数を用いてヒストグラムを描画できる．\n",
    "\n",
    "```python\n",
    "plt.hist(data)\n",
    "```\n",
    "\n",
    "本来，ヒストグラムはデータ量がある程度多くないと描画が難しいが，今回はひとまず「客数」のデータのヒストグラムを表示してみよう．"
   ]
  },
  {
   "cell_type": "code",
   "execution_count": 89,
   "metadata": {},
   "outputs": [
    {
     "data": {
      "image/png": "[encoded data removed]",
      "text/plain": [
       "<Figure size 432x288 with 1 Axes>"
      ]
     },
     "metadata": {
      "needs_background": "light"
     },
     "output_type": "display_data"
    }
   ],
   "source": [
    "plt.hist(df['客数'])\n",
    "plt.title('客数のヒストグラム')\n",
    "plt.xlabel('客数')\n",
    "plt.ylabel('度数');"
   ]
  },
  {
   "cell_type": "markdown",
   "metadata": {},
   "source": [
    "このグラフより，客数は300人から450人くらいの範囲に主に分布しており，客数が500人を超えることは稀であることがわかる．\n",
    "\n",
    "なお，`hist` 関数ではデフォルトの分割数として `10` が設定されているが，ここを手動で設定したい場合は引数 `bins` に分割数を指定すれば良い．\n",
    "例えば分割数により大きな `15` を設定すると，ヒストグラムの各棒が細くなり，分布の表現がより細かくなる．"
   ]
  },
  {
   "cell_type": "code",
   "execution_count": 90,
   "metadata": {},
   "outputs": [
    {
     "data": {
      "image/png": "[encoded data removed]",
      "text/plain": [
       "<Figure size 432x288 with 1 Axes>"
      ]
     },
     "metadata": {
      "needs_background": "light"
     },
     "output_type": "display_data"
    }
   ],
   "source": [
    "plt.hist(df['客数'], bins=15)\n",
    "plt.title('客数のヒストグラム')\n",
    "plt.xlabel('客数')\n",
    "plt.ylabel('度数');"
   ]
  },
  {
   "cell_type": "markdown",
   "metadata": {},
   "source": [
    "### 複数のグラフの重ね合わせ\n",
    "\n",
    "Matplotlibでは，グラフ作成用関数を繰り返し実行することで，各グラフを重ねて表示することが可能である．\n",
    "\n",
    "例として，`df` のデータを第1週目（日付1〜7）と第2週目（日付8〜14）に分け，それぞれ対応する曜日と「客数」の線グラフを重ねて描画してみる．\n",
    "\n",
    "ここで，日付は月曜始まりとして扱う．つまり，日付1と8は月曜，日付2と9は火曜, ..., 日付7と14は日曜となる．"
   ]
  },
  {
   "cell_type": "code",
   "execution_count": 91,
   "metadata": {},
   "outputs": [
    {
     "data": {
      "image/png": "[encoded data removed]",
      "text/plain": [
       "<Figure size 432x288 with 1 Axes>"
      ]
     },
     "metadata": {
      "needs_background": "light"
     },
     "output_type": "display_data"
    }
   ],
   "source": [
    "df_1st_week = df[df['日付'] <= 7] # 第1週目のDataFrameを抽出\n",
    "df_2nd_week = df[df['日付'] > 7] # 第2週目のDataFrameを抽出\n",
    "days = ['月', '火', '水', '木', '金', '土', '日'] # 横軸となる曜日のリストを作っておく\n",
    "\n",
    "plt.plot(days, df_1st_week['客数']) # 第1週目の線グラフ作成\n",
    "plt.plot(days, df_2nd_week['客数']) # 第2週目の線グラフ作成\n",
    "plt.title('曜日ごとの客数')\n",
    "plt.xlabel('曜日')\n",
    "plt.ylabel('客数（人）');"
   ]
  },
  {
   "cell_type": "markdown",
   "metadata": {},
   "source": [
    "上記からわかるように，線グラフを重ねたい場合は同じセル内で単純に `plt.plot` を複数実行すればよいことがわかる．\n",
    "また，各グラフは自動で色分けされている（もちろん，引数で任意の色を指定することもできる）．\n",
    "\n",
    "ただし，上記のグラフだけだと青色と橙色のどちらが1週目と2週目なのか判断がつかない．そのような場合は凡例を表示する必要がある．\n",
    "\n",
    "`plot` 関数の `label` 引数にグラフの各線の凡例として表示したい文字列を指定した上で，`legend` 関数を呼び出すことで，グラフ中に凡例を表示することができる．"
   ]
  },
  {
   "cell_type": "code",
   "execution_count": 92,
   "metadata": {},
   "outputs": [
    {
     "data": {
      "image/png": "[encoded data removed]",
      "text/plain": [
       "<Figure size 432x288 with 1 Axes>"
      ]
     },
     "metadata": {
      "needs_background": "light"
     },
     "output_type": "display_data"
    }
   ],
   "source": [
    "plt.plot(days, df_1st_week['客数'], label='第1週') # 第1週目の線グラフ作成\n",
    "plt.plot(days, df_2nd_week['客数'], label='第2週') # 第2週目の線グラフ作成\n",
    "plt.title('曜日ごとの客数')\n",
    "plt.xlabel('曜日')\n",
    "plt.ylabel('客数（人）')\n",
    "plt.legend();"
   ]
  },
  {
   "cell_type": "markdown",
   "metadata": {},
   "source": [
    "### グラフから読み取れる相関関係\n",
    "\n",
    "さて，話を少し戻そう．\n",
    "散布図の説明をした際に，「最高気温」と「客数」の間に，右肩上がりの関係が確認された．\n",
    "\n",
    "このように，「x軸の値が大きくなるほど，y軸の値も大きくなる」ような関係性を，**正の相関** という．\n",
    "相関とは，「互いに関係がある」という意味である．\n",
    "\n",
    "逆に，「x軸の値が大きくなるほど，y軸の値は小さくなる」ことを **負の相関** という．\n",
    "この場合，散布図は右肩下がりになるはずである．\n",
    "\n",
    "「x軸の値とy軸の値の間に明確な関係がない」場合，**無相関** と呼ばれる．\n",
    "この場合，散布図に傾きはみられない．\n",
    "\n",
    "このような2つの値の相関関係の強さを表す指標として， **相関係数** というものがある．\n",
    "相関係数は-1から1の値をとり，絶対値が大きいほど関係性が強いことを意味する．\n",
    "相関係数にはいくつかの定義がありますが，最も代表的なピアソンの積率相関係数 $r$ は以下の式で計算される．\n",
    "\n",
    "$$\n",
    "r = \\frac{\\sum_{i=1}^N (x_i - \\bar{x}) (y_i - \\bar{y})}{\\sqrt{\\sum_{i=1}^N(x_i - \\bar{x})^2 \\sum_{i=1}^N(y_i - \\bar{y})^2}}\n",
    "$$\n",
    "\n",
    "```{admonition} 相関係数の目安\n",
    "\n",
    "相関係数の値と相関の強さに関して，よく使われる目安は以下の通りである．\n",
    "\n",
    "| 相関係数の絶対値 | 目安 |\n",
    "| --- | --- |\n",
    "| 0.7〜1.0 | 強い相関 |\n",
    "| 0.4〜0.7 | 中程度の相関 |\n",
    "| 0.2〜0.4 | 弱い相関 |\n",
    "| 0.0〜0.2 | ほとんど相関がない |\n",
    "\n",
    "ただしこれは絶対的な基準ではないことに注意されたい．\n",
    "\n",
    "```\n",
    "\n",
    "相関係数も要約統計量と同様に，Pandasの機能を用いて計算することができる．\n",
    "\n",
    "相関係数を計算したい列を含むデータフレームに対し，\n",
    "\n",
    "```python\n",
    "DataFrame.corr()\n",
    "```\n",
    "\n",
    "とすれば計算結果が返ってくる．\n",
    "「最高気温」と「客数」の間の相関係数を計算してみよう．"
   ]
  },
  {
   "cell_type": "code",
   "execution_count": 93,
   "metadata": {},
   "outputs": [
    {
     "data": {
      "text/html": [
       "<div>\n",
       "<style scoped>\n",
       "    .dataframe tbody tr th:only-of-type {\n",
       "        vertical-align: middle;\n",
       "    }\n",
       "\n",
       "    .dataframe tbody tr th {\n",
       "        vertical-align: top;\n",
       "    }\n",
       "\n",
       "    .dataframe thead th {\n",
       "        text-align: right;\n",
       "    }\n",
       "</style>\n",
       "<table border=\"1\" class=\"dataframe\">\n",
       "  <thead>\n",
       "    <tr style=\"text-align: right;\">\n",
       "      <th></th>\n",
       "      <th>最高気温</th>\n",
       "      <th>客数</th>\n",
       "    </tr>\n",
       "  </thead>\n",
       "  <tbody>\n",
       "    <tr>\n",
       "      <th>最高気温</th>\n",
       "      <td>1.000000</td>\n",
       "      <td>0.697871</td>\n",
       "    </tr>\n",
       "    <tr>\n",
       "      <th>客数</th>\n",
       "      <td>0.697871</td>\n",
       "      <td>1.000000</td>\n",
       "    </tr>\n",
       "  </tbody>\n",
       "</table>\n",
       "</div>"
      ],
      "text/plain": [
       "          最高気温        客数\n",
       "最高気温  1.000000  0.697871\n",
       "客数    0.697871  1.000000"
      ]
     },
     "execution_count": 93,
     "metadata": {},
     "output_type": "execute_result"
    }
   ],
   "source": [
    "df[['最高気温', '客数']].corr()"
   ]
  },
  {
   "cell_type": "markdown",
   "metadata": {},
   "source": [
    "ここで返されるのは相関行列というものである．この行列の対角成分は同じ変数間の相関係数なので，「1」となる．\n",
    "「最高気温」と「客数」の間の相関係数を確認するためには，非対角成分の部分に着目すれば良い．\n",
    "\n",
    "これより，「最高気温」と「客数」の間の相関係数は約0.698であることがわかった．\n",
    "さきほどの目安と照らし合わせると，中程度〜強い正の相関関係があるといえる．\n",
    "\n",
    "````{admonition} 注意\n",
    ":class: attention\n",
    "\n",
    "上記の相関行列において，非対角成分は2つあるが，どちらを見ればよいだろうか．\n",
    "正解は，「どちらでも良い」である．\n",
    "\n",
    "「最高気温」と「客数」の間の相関も，その逆である「客数」と「最高気温」の間の相関も，同じ意味を持つ．\n",
    "これは，上述の相関係数において $x$ と $y$ を入れ替えても本質的な計算は変わらないことからも明らかである．\n",
    "つまり，相関行列は相関行列は対称行列の一種である．\n",
    "\n",
    "````\n",
    "\n",
    "このように，データから平均値など要約統計量を計算したり，散布図などを描画して可視化してみたり，相関係数を計算したりすることで，データの中の性質や関係性を理解したり分析したりすることができる．\n",
    "今回紹介したPandasやMatplotlibのように，Pythonにはこのようなデータ分析を実現するための様々なモジュール・ライブラリが揃っているため，それらを駆使することで幅広い応用に展開可能である．\n",
    "\n",
    "````{admonition} 【補足】相関関係と因果関係\n",
    ":class: dropdown\n",
    "\n",
    "相関係数は，あくまで2つの変数の間の関係性の強さを示す指標に過ぎない\n",
    "今回の分析で「最高気温」と「客数」の間に正の相関があることは分かった．\n",
    "これは，「最高気温が高いとき，アイスクリーム屋の客数も多い」ことを意味している．\n",
    "\n",
    "しかし，この結果から「最高気温が高いことが **原因** で，**結果** としてアイスクリーム屋の客数が増えた」と結論付けることはできないことに注意すること（なぜなら，もしかしたら他にも関係する変数が存在するかもしれないからである）．\n",
    "因果関係があるかどうかを示すためには，より複雑な別の分析を行う必要がある．\n",
    "````\n"
   ]
  },
  {
   "cell_type": "markdown",
   "metadata": {},
   "source": [
    "```{admonition} Matplotlibによるデータの可視化のまとめ\n",
    "- データを様々な方法で視覚的わかりやすく提示することを可視化と呼ぶ\n",
    "- Matplotlibは，Pythonでよく用いられるグラフ描画ライブラリである\n",
    "- 線グラフや棒グラフ，ヒストグラムなど，さまざまなグラフを描画できる\n",
    "```"
   ]
  }
 ],
 "metadata": {
  "kernelspec": {
   "display_name": "Python 3",
   "language": "python",
   "name": "python3"
  },
  "language_info": {
   "codemirror_mode": {
    "name": "ipython",
    "version": 3
   },
   "file_extension": ".py",
   "mimetype": "text/x-python",
   "name": "python",
   "nbconvert_exporter": "python",
   "pygments_lexer": "ipython3",
   "version": "3.9.13"
  },
  "toc": {
   "base_numbering": 1,
   "nav_menu": {},
   "number_sections": false,
   "sideBar": true,
   "skip_h1_title": false,
   "title_cell": "Table of Contents",
   "title_sidebar": "Contents",
   "toc_cell": false,
   "toc_position": {},
   "toc_section_display": true,
   "toc_window_display": true
  },
  "vscode": {
   "interpreter": {
    "hash": "13b92c06b6e5ed457c2ffbe8aafd0597ab041ad1a918995ab3a6bf23080bab16"
   }
  }
 },
 "nbformat": 4,
 "nbformat_minor": 2
}
