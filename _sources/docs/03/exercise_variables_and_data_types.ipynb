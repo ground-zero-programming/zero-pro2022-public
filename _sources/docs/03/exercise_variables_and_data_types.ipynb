{
 "cells": [
  {
   "cell_type": "markdown",
   "metadata": {},
   "source": [
    "# 第3回：変数とデータ型（演習）\n",
    "\n",
    "担当：相澤宏旭"
   ]
  },
  {
   "cell_type": "markdown",
   "metadata": {},
   "source": [
    "準備中"
   ]
  },
  {
   "cell_type": "code",
   "execution_count": null,
   "metadata": {},
   "outputs": [],
   "source": []
  }
 ],
 "metadata": {
  "language_info": {
   "name": "python"
  },
  "orig_nbformat": 4
 },
 "nbformat": 4,
 "nbformat_minor": 2
}
